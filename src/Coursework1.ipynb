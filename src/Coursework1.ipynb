{
 "cells": [
  {
   "cell_type": "code",
   "execution_count": 3,
   "metadata": {},
   "outputs": [],
   "source": [
    "# make the necessary imports\n",
    "import numpy as np\n",
    "from matplotlib import pyplot as plt\n",
    "from Models.CustomClassifier import DecisionTree\n",
    "from Utilities.Evaluate import evaluate\n",
    "\n",
    "\n",
    "    "
   ]
  },
  {
   "cell_type": "code",
   "execution_count": 11,
   "metadata": {},
   "outputs": [],
   "source": [
    "clean_dataset, noisy_dataset = np.loadtxt(\"Data/wifi_db/clean_dataset.txt\", dtype = np.float32), np.loadtxt(\"Data/wifi_db/noisy_dataset.txt\", dtype = np.float64)\n"
   ]
  },
  {
   "cell_type": "code",
   "execution_count": 12,
   "metadata": {},
   "outputs": [
    {
     "name": "stdout",
     "output_type": "stream",
     "text": [
      " Shape of Clean Dataset :  (2000, 8)\n",
      " Shape of Noisy Dataset :  (2000, 8)\n"
     ]
    }
   ],
   "source": [
    "print(\" Shape of Clean Dataset : \", clean_dataset.shape)\n",
    "print(\" Shape of Noisy Dataset : \", noisy_dataset.shape)\n"
   ]
  },
  {
   "cell_type": "code",
   "execution_count": 13,
   "metadata": {},
   "outputs": [],
   "source": [
    "\n",
    "decision_tree = DecisionTree()"
   ]
  },
  {
   "cell_type": "code",
   "execution_count": 14,
   "metadata": {},
   "outputs": [],
   "source": [
    "def k_fold_cross_validation(dataset, n_splits, n_classes):\n",
    "    \n",
    "    np.random.shuffle(dataset)\n",
    "    n_samples = len(dataset)\n",
    "    fold_size = n_samples // n_splits\n",
    "    indices = np.arange(n_samples)\n",
    "\n",
    "        # Variables to accumulate results\n",
    "    total_cm = np.zeros((n_classes, n_classes), dtype=int)  # Adjust for number of classes if needed\n",
    "    total_accuracy = 0\n",
    "    total_precision = np.zeros(4)  # Adjust for number of classes\n",
    "    total_recall = np.zeros(4)     # Adjust for number of classes\n",
    "    total_f1 = np.zeros(4)         # Adjust for number of classes\n",
    "\n",
    "    for i in range(n_splits):\n",
    "        test_indices = indices[i * fold_size: (i + 1) * fold_size]\n",
    "        train_indices = np.concatenate([indices[:i * fold_size], indices[(i + 1) * fold_size:]], axis = 0)\n",
    "\n",
    "            # Prepare training and testing data\n",
    "        train_set = dataset[train_indices]\n",
    "        test_set = dataset[test_indices]\n",
    "\n",
    "            # Train the decision tree\n",
    "        decision_tree.fit(train_set)\n",
    "        # Evaluate performance on the test fold\n",
    "        cm, precision, recall, accuracy, f1 = evaluate(test_set, decision_tree, 4)\n",
    "            \n",
    "            #print(cm)\n",
    "            \n",
    "            \n",
    "            \n",
    "            # Accumulate results\n",
    "        total_cm += cm\n",
    "        total_accuracy += accuracy\n",
    "        total_precision += precision\n",
    "        total_recall += recall\n",
    "        total_f1 += f1\n",
    "\n",
    "        # Compute averages\n",
    "        \n",
    "    average_cm = total_cm // n_splits\n",
    "    average_accuracy = total_accuracy / n_splits\n",
    "    average_precision = total_precision / n_splits\n",
    "    average_recall = total_recall / n_splits\n",
    "    average_f1 = total_f1 / n_splits\n",
    "    \n",
    "    return average_cm, average_accuracy, average_precision, average_recall, average_f1\n",
    "\n",
    "    "
   ]
  },
  {
   "cell_type": "code",
   "execution_count": 17,
   "metadata": {},
   "outputs": [
    {
     "name": "stdout",
     "output_type": "stream",
     "text": [
      "Average Confusion Matrix:\n",
      " [[49  0  0  0]\n",
      " [ 0 47  2  0]\n",
      " [ 0  2 47  0]\n",
      " [ 0  0  0 49]]\n",
      "Average Accuracy: 0.97\n",
      "Average Precision per Class: [0.99400791 0.95766367 0.94425906 0.98440822]\n",
      "Average Recall per Class: [0.98556565 0.95330685 0.95007225 0.98967295]\n",
      "Average F1 Score per Class: [0.98963701 0.95528565 0.94693814 0.98688016]\n"
     ]
    }
   ],
   "source": [
    "average_cm, average_accuracy, average_precision, average_recall, average_f1 = k_fold_cross_validation(clean_dataset, 10, 4)\n",
    "\n",
    "print(\"Average Confusion Matrix:\\n\", average_cm)\n",
    "print(\"Average Accuracy:\", average_accuracy)\n",
    "print(\"Average Precision per Class:\", average_precision)\n",
    "print(\"Average Recall per Class:\", average_recall)\n",
    "print(\"Average F1 Score per Class:\", average_f1)\n"
   ]
  },
  {
   "cell_type": "code",
   "execution_count": 18,
   "metadata": {},
   "outputs": [
    {
     "name": "stdout",
     "output_type": "stream",
     "text": [
      "Average Confusion Matrix For Noisy Dataset:\n",
      " [[38  3  3  3]\n",
      " [ 3 40  4  1]\n",
      " [ 3  3 41  3]\n",
      " [ 4  2  3 39]]\n",
      "Average Accuracy for Noisy Dataset: 0.8045\n",
      "Average Precision per Class for Noisy Dataset: [0.77558794 0.81766883 0.80496201 0.82340044]\n",
      "Average Recall per Class for Noisy Dataset: [0.7854048  0.82139291 0.81442914 0.80278496]\n",
      "Average F1 Score per Class for Noisy Dataset: [0.77842774 0.81861287 0.80828474 0.81133238]\n"
     ]
    }
   ],
   "source": [
    "average_cm_noisy, average_accuracy_noisy, average_precision_noisy, average_recall_noisy, average_f1_noisy = k_fold_cross_validation(noisy_dataset, 10, 4)\n",
    "\n",
    "print(\"Average Confusion Matrix For Noisy Dataset:\\n\", average_cm_noisy)\n",
    "print(\"Average Accuracy for Noisy Dataset:\", average_accuracy_noisy)\n",
    "print(\"Average Precision per Class for Noisy Dataset:\", average_precision_noisy)\n",
    "print(\"Average Recall per Class for Noisy Dataset:\", average_recall_noisy)\n",
    "print(\"Average F1 Score per Class for Noisy Dataset:\", average_f1_noisy)\n"
   ]
  },
  {
   "cell_type": "code",
   "execution_count": null,
   "metadata": {},
   "outputs": [],
   "source": []
  }
 ],
 "metadata": {
  "kernelspec": {
   "display_name": "Python 3",
   "language": "python",
   "name": "python3"
  },
  "language_info": {
   "codemirror_mode": {
    "name": "ipython",
    "version": 3
   },
   "file_extension": ".py",
   "mimetype": "text/x-python",
   "name": "python",
   "nbconvert_exporter": "python",
   "pygments_lexer": "ipython3",
   "version": "3.12.7"
  }
 },
 "nbformat": 4,
 "nbformat_minor": 2
}
